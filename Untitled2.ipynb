{
 "cells": [
  {
   "cell_type": "code",
   "execution_count": 6,
   "id": "b9a0c5fe-cbbf-4bbf-9c9f-dc361ffdfc37",
   "metadata": {},
   "outputs": [
    {
     "ename": "OperationalError",
     "evalue": "connection to server at \"localhost\" (::1), port 5432 failed: FATAL:  password authentication failed for user \"your_user\"\n",
     "output_type": "error",
     "traceback": [
      "\u001b[31m---------------------------------------------------------------------------\u001b[39m",
      "\u001b[31mOperationalError\u001b[39m                          Traceback (most recent call last)",
      "\u001b[36mCell\u001b[39m\u001b[36m \u001b[39m\u001b[32mIn[6]\u001b[39m\u001b[32m, line 44\u001b[39m\n\u001b[32m     35\u001b[39m \u001b[38;5;28;01mif\u001b[39;00m \u001b[34m__name__\u001b[39m == \u001b[33m\"\u001b[39m\u001b[33m__main__\u001b[39m\u001b[33m\"\u001b[39m:\n\u001b[32m     36\u001b[39m     config = {\n\u001b[32m     37\u001b[39m         \u001b[33m\"\u001b[39m\u001b[33mdbname\u001b[39m\u001b[33m\"\u001b[39m: \u001b[33m\"\u001b[39m\u001b[33myour_db\u001b[39m\u001b[33m\"\u001b[39m,\n\u001b[32m     38\u001b[39m         \u001b[33m\"\u001b[39m\u001b[33muser\u001b[39m\u001b[33m\"\u001b[39m: \u001b[33m\"\u001b[39m\u001b[33myour_user\u001b[39m\u001b[33m\"\u001b[39m,\n\u001b[32m   (...)\u001b[39m\u001b[32m     41\u001b[39m         \u001b[33m\"\u001b[39m\u001b[33mport\u001b[39m\u001b[33m\"\u001b[39m: \u001b[33m\"\u001b[39m\u001b[33m5432\u001b[39m\u001b[33m\"\u001b[39m\n\u001b[32m     42\u001b[39m     }\n\u001b[32m---> \u001b[39m\u001b[32m44\u001b[39m     \u001b[43mload_to_postgres\u001b[49m\u001b[43m(\u001b[49m\u001b[33;43m\"\u001b[39;49m\u001b[33;43mdata/finance_data.csv\u001b[39;49m\u001b[33;43m\"\u001b[39;49m\u001b[43m,\u001b[49m\u001b[43m \u001b[49m\u001b[33;43m\"\u001b[39;49m\u001b[33;43mfinance_data\u001b[39;49m\u001b[33;43m\"\u001b[39;49m\u001b[43m,\u001b[49m\u001b[43m \u001b[49m\u001b[43mconfig\u001b[49m\u001b[43m)\u001b[49m\n",
      "\u001b[36mCell\u001b[39m\u001b[36m \u001b[39m\u001b[32mIn[6]\u001b[39m\u001b[32m, line 17\u001b[39m, in \u001b[36mload_to_postgres\u001b[39m\u001b[34m(csv_path, table_name, db_config)\u001b[39m\n\u001b[32m     14\u001b[39m df = pd.read_csv(csv_path)\n\u001b[32m     16\u001b[39m \u001b[38;5;66;03m# Connect to database\u001b[39;00m\n\u001b[32m---> \u001b[39m\u001b[32m17\u001b[39m conn = \u001b[43mpsycopg2\u001b[49m\u001b[43m.\u001b[49m\u001b[43mconnect\u001b[49m\u001b[43m(\u001b[49m\u001b[43m*\u001b[49m\u001b[43m*\u001b[49m\u001b[43mdb_config\u001b[49m\u001b[43m)\u001b[49m\n\u001b[32m     18\u001b[39m cursor = conn.cursor()\n\u001b[32m     20\u001b[39m \u001b[38;5;66;03m# Create table (basic schema based on df columns)\u001b[39;00m\n",
      "\u001b[36mFile \u001b[39m\u001b[32m~\\AppData\\Local\\Programs\\Python\\Python312\\Lib\\site-packages\\psycopg2\\__init__.py:122\u001b[39m, in \u001b[36mconnect\u001b[39m\u001b[34m(dsn, connection_factory, cursor_factory, **kwargs)\u001b[39m\n\u001b[32m    119\u001b[39m     kwasync[\u001b[33m'\u001b[39m\u001b[33masync_\u001b[39m\u001b[33m'\u001b[39m] = kwargs.pop(\u001b[33m'\u001b[39m\u001b[33masync_\u001b[39m\u001b[33m'\u001b[39m)\n\u001b[32m    121\u001b[39m dsn = _ext.make_dsn(dsn, **kwargs)\n\u001b[32m--> \u001b[39m\u001b[32m122\u001b[39m conn = \u001b[43m_connect\u001b[49m\u001b[43m(\u001b[49m\u001b[43mdsn\u001b[49m\u001b[43m,\u001b[49m\u001b[43m \u001b[49m\u001b[43mconnection_factory\u001b[49m\u001b[43m=\u001b[49m\u001b[43mconnection_factory\u001b[49m\u001b[43m,\u001b[49m\u001b[43m \u001b[49m\u001b[43m*\u001b[49m\u001b[43m*\u001b[49m\u001b[43mkwasync\u001b[49m\u001b[43m)\u001b[49m\n\u001b[32m    123\u001b[39m \u001b[38;5;28;01mif\u001b[39;00m cursor_factory \u001b[38;5;129;01mis\u001b[39;00m \u001b[38;5;129;01mnot\u001b[39;00m \u001b[38;5;28;01mNone\u001b[39;00m:\n\u001b[32m    124\u001b[39m     conn.cursor_factory = cursor_factory\n",
      "\u001b[31mOperationalError\u001b[39m: connection to server at \"localhost\" (::1), port 5432 failed: FATAL:  password authentication failed for user \"your_user\"\n"
     ]
    }
   ],
   "source": [
    "# src/database/postgres_loader.py\n",
    "\n",
    "import pandas as pd\n",
    "import psycopg2\n",
    "\n",
    "def load_to_postgres(csv_path, table_name, db_config):\n",
    "    \"\"\"\n",
    "    Load a CSV file into a PostgreSQL table.\n",
    "    Args:\n",
    "        csv_path: Path to the CSV file.\n",
    "        table_name: Target table in PostgreSQL.\n",
    "        db_config: Dictionary with 'dbname', 'user', 'password', 'host', 'port'\n",
    "    \"\"\"\n",
    "    df = pd.read_csv(csv_path)\n",
    "\n",
    "    # Connect to database\n",
    "    conn = psycopg2.connect(**db_config)\n",
    "    cursor = conn.cursor()\n",
    "\n",
    "    # Create table (basic schema based on df columns)\n",
    "    cols = \", \".join([f\"{col} TEXT\" for col in df.columns])\n",
    "    cursor.execute(f\"DROP TABLE IF EXISTS {table_name};\")\n",
    "    cursor.execute(f\"CREATE TABLE {table_name} ({cols});\")\n",
    "\n",
    "    # Insert data\n",
    "    for _, row in df.iterrows():\n",
    "        values = \"', '\".join([str(val).replace(\"'\", \" \") for val in row])\n",
    "        cursor.execute(f\"INSERT INTO {table_name} VALUES ('{values}');\")\n",
    "\n",
    "    conn.commit()\n",
    "    cursor.close()\n",
    "    conn.close()\n",
    "    print(f\"Data loaded into table: {table_name}\")\n",
    "\n",
    "if __name__ == \"__main__\":\n",
    "    config = {\n",
    "        \"dbname\": \"your_db\",\n",
    "        \"user\": \"your_user\",\n",
    "        \"password\": \"your_password\",\n",
    "        \"host\": \"localhost\",\n",
    "        \"port\": \"5432\"\n",
    "    }\n",
    "\n",
    "    load_to_postgres(\"data/finance_data.csv\", \"finance_data\", config)\n"
   ]
  },
  {
   "cell_type": "code",
   "execution_count": null,
   "id": "40ab3656-4e34-41d1-8127-5b9c38e9350b",
   "metadata": {},
   "outputs": [],
   "source": []
  }
 ],
 "metadata": {
  "kernelspec": {
   "display_name": "Python 3.12",
   "language": "python",
   "name": "py312"
  },
  "language_info": {
   "codemirror_mode": {
    "name": "ipython",
    "version": 3
   },
   "file_extension": ".py",
   "mimetype": "text/x-python",
   "name": "python",
   "nbconvert_exporter": "python",
   "pygments_lexer": "ipython3",
   "version": "3.12.9"
  }
 },
 "nbformat": 4,
 "nbformat_minor": 5
}
